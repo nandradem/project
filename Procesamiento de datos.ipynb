{
 "cells": [
  {
   "cell_type": "code",
   "execution_count": 10,
   "metadata": {},
   "outputs": [],
   "source": [
    "import pandas as pd\n",
    "import matplotlib.pyplot as plt\n",
    "import numpy as np\n",
    "\n",
    "import scipy\n",
    "import sklearn as sk\n",
    "from sklearn.linear_model import LinearRegression"
   ]
  },
  {
   "cell_type": "code",
   "execution_count": 11,
   "metadata": {},
   "outputs": [
    {
     "data": {
      "text/html": [
       "<div>\n",
       "<style scoped>\n",
       "    .dataframe tbody tr th:only-of-type {\n",
       "        vertical-align: middle;\n",
       "    }\n",
       "\n",
       "    .dataframe tbody tr th {\n",
       "        vertical-align: top;\n",
       "    }\n",
       "\n",
       "    .dataframe thead th {\n",
       "        text-align: right;\n",
       "    }\n",
       "</style>\n",
       "<table border=\"1\" class=\"dataframe\">\n",
       "  <thead>\n",
       "    <tr style=\"text-align: right;\">\n",
       "      <th></th>\n",
       "      <th>timestamp</th>\n",
       "      <th>wind_speed_ms-1</th>\n",
       "      <th>temperature</th>\n",
       "    </tr>\n",
       "  </thead>\n",
       "  <tbody>\n",
       "    <tr>\n",
       "      <th>0</th>\n",
       "      <td>2015-01-01 00:00:00</td>\n",
       "      <td>10.48</td>\n",
       "      <td>26.0</td>\n",
       "    </tr>\n",
       "    <tr>\n",
       "      <th>1</th>\n",
       "      <td>2015-01-01 01:00:00</td>\n",
       "      <td>10.40</td>\n",
       "      <td>26.1</td>\n",
       "    </tr>\n",
       "    <tr>\n",
       "      <th>2</th>\n",
       "      <td>2015-01-01 02:00:00</td>\n",
       "      <td>10.53</td>\n",
       "      <td>26.2</td>\n",
       "    </tr>\n",
       "    <tr>\n",
       "      <th>3</th>\n",
       "      <td>2015-01-01 03:00:00</td>\n",
       "      <td>10.52</td>\n",
       "      <td>26.2</td>\n",
       "    </tr>\n",
       "    <tr>\n",
       "      <th>4</th>\n",
       "      <td>2015-01-01 04:00:00</td>\n",
       "      <td>10.37</td>\n",
       "      <td>26.1</td>\n",
       "    </tr>\n",
       "  </tbody>\n",
       "</table>\n",
       "</div>"
      ],
      "text/plain": [
       "             timestamp  wind_speed_ms-1  temperature\n",
       "0  2015-01-01 00:00:00            10.48         26.0\n",
       "1  2015-01-01 01:00:00            10.40         26.1\n",
       "2  2015-01-01 02:00:00            10.53         26.2\n",
       "3  2015-01-01 03:00:00            10.52         26.2\n",
       "4  2015-01-01 04:00:00            10.37         26.1"
      ]
     },
     "execution_count": 11,
     "metadata": {},
     "output_type": "execute_result"
    }
   ],
   "source": [
    "dfwind = pd.read_csv(filepath_or_buffer='wind/wind.csv')\n",
    "\n",
    "\n",
    "dfwind.head()"
   ]
  },
  {
   "cell_type": "code",
   "execution_count": 12,
   "metadata": {},
   "outputs": [
    {
     "data": {
      "text/html": [
       "<div>\n",
       "<style scoped>\n",
       "    .dataframe tbody tr th:only-of-type {\n",
       "        vertical-align: middle;\n",
       "    }\n",
       "\n",
       "    .dataframe tbody tr th {\n",
       "        vertical-align: top;\n",
       "    }\n",
       "\n",
       "    .dataframe thead th {\n",
       "        text-align: right;\n",
       "    }\n",
       "</style>\n",
       "<table border=\"1\" class=\"dataframe\">\n",
       "  <thead>\n",
       "    <tr style=\"text-align: right;\">\n",
       "      <th></th>\n",
       "      <th>timestamp</th>\n",
       "      <th>wind_speed_ms-1</th>\n",
       "      <th>temperature</th>\n",
       "    </tr>\n",
       "  </thead>\n",
       "  <tbody>\n",
       "    <tr>\n",
       "      <th>0</th>\n",
       "      <td>2015-01-01 00:00:00</td>\n",
       "      <td>10.48</td>\n",
       "      <td>26.0</td>\n",
       "    </tr>\n",
       "    <tr>\n",
       "      <th>1</th>\n",
       "      <td>2015-01-01 01:00:00</td>\n",
       "      <td>10.40</td>\n",
       "      <td>26.1</td>\n",
       "    </tr>\n",
       "    <tr>\n",
       "      <th>2</th>\n",
       "      <td>2015-01-01 02:00:00</td>\n",
       "      <td>10.53</td>\n",
       "      <td>26.2</td>\n",
       "    </tr>\n",
       "    <tr>\n",
       "      <th>3</th>\n",
       "      <td>2015-01-01 03:00:00</td>\n",
       "      <td>10.52</td>\n",
       "      <td>26.2</td>\n",
       "    </tr>\n",
       "    <tr>\n",
       "      <th>4</th>\n",
       "      <td>2015-01-01 04:00:00</td>\n",
       "      <td>10.37</td>\n",
       "      <td>26.1</td>\n",
       "    </tr>\n",
       "    <tr>\n",
       "      <th>...</th>\n",
       "      <td>...</td>\n",
       "      <td>...</td>\n",
       "      <td>...</td>\n",
       "    </tr>\n",
       "    <tr>\n",
       "      <th>26299</th>\n",
       "      <td>2017-12-31 19:00:00</td>\n",
       "      <td>7.44</td>\n",
       "      <td>25.1</td>\n",
       "    </tr>\n",
       "    <tr>\n",
       "      <th>26300</th>\n",
       "      <td>2017-12-31 20:00:00</td>\n",
       "      <td>7.72</td>\n",
       "      <td>25.0</td>\n",
       "    </tr>\n",
       "    <tr>\n",
       "      <th>26301</th>\n",
       "      <td>2017-12-31 21:00:00</td>\n",
       "      <td>7.98</td>\n",
       "      <td>25.2</td>\n",
       "    </tr>\n",
       "    <tr>\n",
       "      <th>26302</th>\n",
       "      <td>2017-12-31 22:00:00</td>\n",
       "      <td>6.77</td>\n",
       "      <td>25.6</td>\n",
       "    </tr>\n",
       "    <tr>\n",
       "      <th>26303</th>\n",
       "      <td>2017-12-31 23:00:00</td>\n",
       "      <td>7.30</td>\n",
       "      <td>25.8</td>\n",
       "    </tr>\n",
       "  </tbody>\n",
       "</table>\n",
       "<p>26304 rows × 3 columns</p>\n",
       "</div>"
      ],
      "text/plain": [
       "                 timestamp  wind_speed_ms-1  temperature\n",
       "0      2015-01-01 00:00:00            10.48         26.0\n",
       "1      2015-01-01 01:00:00            10.40         26.1\n",
       "2      2015-01-01 02:00:00            10.53         26.2\n",
       "3      2015-01-01 03:00:00            10.52         26.2\n",
       "4      2015-01-01 04:00:00            10.37         26.1\n",
       "...                    ...              ...          ...\n",
       "26299  2017-12-31 19:00:00             7.44         25.1\n",
       "26300  2017-12-31 20:00:00             7.72         25.0\n",
       "26301  2017-12-31 21:00:00             7.98         25.2\n",
       "26302  2017-12-31 22:00:00             6.77         25.6\n",
       "26303  2017-12-31 23:00:00             7.30         25.8\n",
       "\n",
       "[26304 rows x 3 columns]"
      ]
     },
     "execution_count": 12,
     "metadata": {},
     "output_type": "execute_result"
    }
   ],
   "source": [
    "#Esta parte del codigo cambia los valores que sean =< 27 y >= 7 por 0\n",
    "dfwind.loc[dfwind['temperature'] >= 27,'wind_speed_ms-1'] = 0\n",
    "dfwind.loc[dfwind['temperature'] <= 10,'wind_speed_ms-1'] = 0\n",
    "dfwind"
   ]
  },
  {
   "cell_type": "code",
   "execution_count": 13,
   "metadata": {},
   "outputs": [
    {
     "name": "stdout",
     "output_type": "stream",
     "text": [
      "                timestamp  wind_speed_ms-1  temperature\n",
      "3688  2015-06-03 16:00:00              0.0         27.1\n",
      "3689  2015-06-03 17:00:00              0.0         27.2\n"
     ]
    }
   ],
   "source": [
    "#se comprueba que si se hallan cambiando los valores\n",
    "chequeo = dfwind['temperature'] >= 27\n",
    "print(dfwind[chequeo].head(2))"
   ]
  },
  {
   "cell_type": "code",
   "execution_count": 14,
   "metadata": {},
   "outputs": [
    {
     "data": {
      "image/png": "[encoded data removed]",
      "text/plain": [
       "<Figure size 640x480 with 1 Axes>"
      ]
     },
     "metadata": {},
     "output_type": "display_data"
    },
    {
     "data": {
      "text/html": [
       "<div>\n",
       "<style scoped>\n",
       "    .dataframe tbody tr th:only-of-type {\n",
       "        vertical-align: middle;\n",
       "    }\n",
       "\n",
       "    .dataframe tbody tr th {\n",
       "        vertical-align: top;\n",
       "    }\n",
       "\n",
       "    .dataframe thead th {\n",
       "        text-align: right;\n",
       "    }\n",
       "</style>\n",
       "<table border=\"1\" class=\"dataframe\">\n",
       "  <thead>\n",
       "    <tr style=\"text-align: right;\">\n",
       "      <th></th>\n",
       "      <th>x</th>\n",
       "      <th>y</th>\n",
       "    </tr>\n",
       "  </thead>\n",
       "  <tbody>\n",
       "    <tr>\n",
       "      <th>0</th>\n",
       "      <td>1.028278</td>\n",
       "      <td>0.000000</td>\n",
       "    </tr>\n",
       "    <tr>\n",
       "      <th>1</th>\n",
       "      <td>1.317481</td>\n",
       "      <td>0.319654</td>\n",
       "    </tr>\n",
       "    <tr>\n",
       "      <th>2</th>\n",
       "      <td>1.799486</td>\n",
       "      <td>0.755940</td>\n",
       "    </tr>\n",
       "    <tr>\n",
       "      <th>3</th>\n",
       "      <td>2.024422</td>\n",
       "      <td>0.997840</td>\n",
       "    </tr>\n",
       "    <tr>\n",
       "      <th>4</th>\n",
       "      <td>3.052699</td>\n",
       "      <td>0.948164</td>\n",
       "    </tr>\n",
       "  </tbody>\n",
       "</table>\n",
       "</div>"
      ],
      "text/plain": [
       "          x         y\n",
       "0  1.028278  0.000000\n",
       "1  1.317481  0.319654\n",
       "2  1.799486  0.755940\n",
       "3  2.024422  0.997840\n",
       "4  3.052699  0.948164"
      ]
     },
     "execution_count": 14,
     "metadata": {},
     "output_type": "execute_result"
    }
   ],
   "source": [
    "df_C_empuje = pd.read_csv('wind/Coeficiente de empuje VS Velocidad Viento (corregido).csv')\n",
    "#G1 = grafica 1\n",
    "#G2 = grafica 2\n",
    "plt.figure()\n",
    "x_G1=df_C_empuje[\"x\"].values\n",
    "y_G1=df_C_empuje[\"y\"].values\n",
    "plt.plot(x_G1,y_G1)\n",
    "plt.show()\n",
    "\n",
    "df_C_empuje.head()"
   ]
  },
  {
   "cell_type": "code",
   "execution_count": 22,
   "metadata": {},
   "outputs": [
    {
     "data": {
      "image/png": "[encoded data removed]",
      "text/plain": [
       "<Figure size 640x480 with 1 Axes>"
      ]
     },
     "metadata": {},
     "output_type": "display_data"
    },
    {
     "data": {
      "text/plain": [
       "[<matplotlib.lines.Line2D at 0x195fc960310>]"
      ]
     },
     "execution_count": 22,
     "metadata": {},
     "output_type": "execute_result"
    },
    {
     "data": {
      "image/png": "[encoded data removed]",
      "text/plain": [
       "<Figure size 800x500 with 1 Axes>"
      ]
     },
     "metadata": {},
     "output_type": "display_data"
    }
   ],
   "source": [
    "\n",
    "df_potencia = pd.read_csv('wind/Potencia Vs velocidad viento (Corregido).csv')\n",
    "\"\"\"\n",
    "Como los valores se extrajeron de forma visual hay algunos que sobrepasan los máximos,\n",
    "por eso se aplica la siguiente funcion que cambia todos los valroes que son mayores al máximo por 2350\n",
    "\"\"\"\n",
    "df_potencia.loc[df_potencia['y'] > 2350,'y'] = 2350\n",
    "plt.figure()\n",
    "x_G2=df_potencia[\"x\"].values\n",
    "y_G2=df_potencia[\"y\"].values\n",
    "plt.plot(x_G2,y_G2)\n",
    "plt.show()\n",
    "\n",
    "itp_lineal = CubicSpline(x_G2, y_G2)\n",
    "y_inter = itp_lineal(x_G2)\n",
    "\n",
    "hor = 8\n",
    "ver = 5\n",
    "plt.figure(figsize=(hor, ver))\n",
    "\n",
    "plt.plot(x_G2, y_G2, linestyle='', marker='o', color='dodgerblue', ms=10, label='Original')\n",
    "plt.plot(x_G2, y_inter, linestyle='', marker='o', color='crimson', ms=10, label='Corregida')\n",
    "\n"
   ]
  }
 ],
 "metadata": {
  "kernelspec": {
   "display_name": "Python 3",
   "language": "python",
   "name": "python3"
  },
  "language_info": {
   "codemirror_mode": {
    "name": "ipython",
    "version": 3
   },
   "file_extension": ".py",
   "mimetype": "text/x-python",
   "name": "python",
   "nbconvert_exporter": "python",
   "pygments_lexer": "ipython3",
   "version": "3.11.3"
  },
  "orig_nbformat": 4
 },
 "nbformat": 4,
 "nbformat_minor": 2
}
